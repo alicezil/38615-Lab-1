{
  "nbformat": 4,
  "nbformat_minor": 0,
  "metadata": {
    "colab": {
      "provenance": [],
      "authorship_tag": "ABX9TyOqCw9lspM+KctUKPoRCSeB",
      "include_colab_link": true
    },
    "kernelspec": {
      "name": "python3",
      "display_name": "Python 3"
    },
    "language_info": {
      "name": "python"
    }
  },
  "cells": [
    {
      "cell_type": "markdown",
      "metadata": {
        "id": "view-in-github",
        "colab_type": "text"
      },
      "source": [
        "<a href=\"https://colab.research.google.com/github/alicezil/38615-Lab-1/blob/main/Exploratory_Data_Analysis.ipynb\" target=\"_parent\"><img src=\"https://colab.research.google.com/assets/colab-badge.svg\" alt=\"Open In Colab\"/></a>"
      ]
    },
    {
      "cell_type": "markdown",
      "source": [
        "# 38615 Lab 1: Exploratory Data Anlysis"
      ],
      "metadata": {
        "id": "q6ime0RUncSG"
      }
    },
    {
      "cell_type": "markdown",
      "source": [
        "You will have to perform EDA analysis:\n",
        "\n",
        "*   Load data, prepare for analysis, process if necessary\n",
        "*   Analyze types of data\n",
        "*   Find and process missing and erroneous features\n",
        "*   Find outliers (if any)\n",
        "*   Find highly correlated variables (if any).\n",
        "*   Find if the target variable is correlated with any features.\n",
        "*   Use PCA to plot data in 2D and color code by the target property. Do you    see any patterns?\n",
        "*   Prepare a short write-up describing your processing technics and choices above.\n",
        "\n",
        "Bonus Qs:\n",
        "*   Use any non-linear dimensionality reduction method. Plot data in 2D and color code by the target property. Compare observed picture with PCA.\n",
        "*   Surprise me! Uncover hidden patterns and find non-trivial relationships in the data"
      ],
      "metadata": {
        "id": "CkzWLUzEoN1K"
      }
    },
    {
      "cell_type": "markdown",
      "source": [
        "# 1. Loading and Preparing Data for Analysis"
      ],
      "metadata": {
        "id": "H02LTodgo76M"
      }
    },
    {
      "cell_type": "markdown",
      "source": [
        "1.1 Importing the necessary libraries:"
      ],
      "metadata": {
        "id": "rmSFqj2npPWy"
      }
    },
    {
      "cell_type": "code",
      "source": [
        "import numpy as np\n",
        "import pandas as pd\n",
        "import sklearn\n",
        "import seaborn as sns\n",
        "import matplotlib.pyplot as plt\n",
        "\n",
        "from sklearn import manifold\n",
        "from sklearn.decomposition import PCA\n",
        "\n",
        "%matplotlib inline \n",
        "sns.set(color_codes=True)"
      ],
      "metadata": {
        "id": "gDUkWDWxnk1C"
      },
      "execution_count": 19,
      "outputs": []
    },
    {
      "cell_type": "markdown",
      "source": [
        "1.2 Loading the data into the data frame:"
      ],
      "metadata": {
        "id": "dcz81UzOqiQd"
      }
    },
    {
      "cell_type": "code",
      "source": [
        "df = pd.read_csv(\"/content/lab1_dataset.csv\")\n",
        "df.shape"
      ],
      "metadata": {
        "id": "1wWJxqlqq_E5",
        "outputId": "76b3ec24-67d9-43f4-87b4-e57fb63abfa3",
        "colab": {
          "base_uri": "https://localhost:8080/"
        }
      },
      "execution_count": 20,
      "outputs": [
        {
          "output_type": "execute_result",
          "data": {
            "text/plain": [
              "(2000, 552)"
            ]
          },
          "metadata": {},
          "execution_count": 20
        }
      ]
    },
    {
      "cell_type": "markdown",
      "source": [
        "1.3 Basic data preperation:"
      ],
      "metadata": {
        "id": "L1-y00sWtzce"
      }
    },
    {
      "cell_type": "code",
      "source": [
        "df = df.drop_duplicates()    # removing duplicate rows if there are any\n",
        "df = df.dropna()             # dropping the missing values\n",
        "df.shape"
      ],
      "metadata": {
        "id": "5qmbQPdft1_d",
        "outputId": "9d622c5f-ae97-4bb3-82c9-8a3899336dc6",
        "colab": {
          "base_uri": "https://localhost:8080/"
        }
      },
      "execution_count": 21,
      "outputs": [
        {
          "output_type": "execute_result",
          "data": {
            "text/plain": [
              "(1900, 552)"
            ]
          },
          "metadata": {},
          "execution_count": 21
        }
      ]
    },
    {
      "cell_type": "markdown",
      "source": [
        "1.4 Removing outliars:"
      ],
      "metadata": {
        "id": "zT_UuU4TujgY"
      }
    },
    {
      "cell_type": "code",
      "source": [
        "# finding the standard deviation of each column:\n",
        "std_list = df.std()\n",
        "mean_list = df.mean()\n",
        "print(std_list)\n",
        "\n",
        "#using the standard deviation to remove outliars (where outliar = 4 standard devs away from the mean)\n"
      ],
      "metadata": {
        "id": "BD3jgdXeuxVv",
        "outputId": "75e0a0b6-65cc-4f70-d08b-7cbfc907887b",
        "colab": {
          "base_uri": "https://localhost:8080/"
        }
      },
      "execution_count": 41,
      "outputs": [
        {
          "output_type": "stream",
          "name": "stdout",
          "text": [
            "experimental_proprty     0.903487\n",
            "nHetero                  1.888562\n",
            "nX                       0.000000\n",
            "C2SP3                    1.100505\n",
            "MPC5                    19.916492\n",
            "                          ...    \n",
            "AATSC1dv                 0.379908\n",
            "nFARing                  0.000000\n",
            "AATS2v                  18.728185\n",
            "Xp-7dv                   0.166795\n",
            "n6Ring                   0.707107\n",
            "Length: 549, dtype: float64\n"
          ]
        },
        {
          "output_type": "stream",
          "name": "stderr",
          "text": [
            "/usr/local/lib/python3.7/dist-packages/ipykernel_launcher.py:2: FutureWarning: Dropping of nuisance columns in DataFrame reductions (with 'numeric_only=None') is deprecated; in a future version this will raise TypeError.  Select only valid columns before calling the reduction.\n",
            "  \n",
            "/usr/local/lib/python3.7/dist-packages/ipykernel_launcher.py:3: FutureWarning: Dropping of nuisance columns in DataFrame reductions (with 'numeric_only=None') is deprecated; in a future version this will raise TypeError.  Select only valid columns before calling the reduction.\n",
            "  This is separate from the ipykernel package so we can avoid doing imports until\n"
          ]
        }
      ]
    }
  ]
}