{
  "nbformat": 4,
  "nbformat_minor": 0,
  "metadata": {
    "colab": {
      "provenance": [],
      "authorship_tag": "ABX9TyPFf3WmWXXOkS7c6kasII8A",
      "include_colab_link": true
    },
    "kernelspec": {
      "name": "python3",
      "display_name": "Python 3"
    },
    "language_info": {
      "name": "python"
    }
  },
  "cells": [
    {
      "cell_type": "markdown",
      "metadata": {
        "id": "view-in-github",
        "colab_type": "text"
      },
      "source": [
        "<a href=\"https://colab.research.google.com/github/alicezil/38615-Lab-1/blob/main/Exploratory_Data_Analysis.ipynb\" target=\"_parent\"><img src=\"https://colab.research.google.com/assets/colab-badge.svg\" alt=\"Open In Colab\"/></a>"
      ]
    },
    {
      "cell_type": "markdown",
      "source": [
        "# 38615 Lab 1: Exploratory Data Anlysis"
      ],
      "metadata": {
        "id": "q6ime0RUncSG"
      }
    },
    {
      "cell_type": "markdown",
      "source": [
        "You will have to perform EDA analysis:\n",
        "\n",
        "*   Load data, prepare for analysis, process if necessary\n",
        "*   Analyze types of data\n",
        "*   Find and process missing and erroneous features\n",
        "*   Find outliers (if any)\n",
        "*   Find highly correlated variables (if any).\n",
        "*   Find if the target variable is correlated with any features.\n",
        "*   Use PCA to plot data in 2D and color code by the target property. Do you    see any patterns?\n",
        "*   Prepare a short write-up describing your processing technics and choices above.\n",
        "\n",
        "Bonus Qs:\n",
        "*   Use any non-linear dimensionality reduction method. Plot data in 2D and color code by the target property. Compare observed picture with PCA.\n",
        "*   Surprise me! Uncover hidden patterns and find non-trivial relationships in the data"
      ],
      "metadata": {
        "id": "CkzWLUzEoN1K"
      }
    },
    {
      "cell_type": "markdown",
      "source": [
        "# 1. Loading and Preparing Data for Analysis"
      ],
      "metadata": {
        "id": "H02LTodgo76M"
      }
    },
    {
      "cell_type": "markdown",
      "source": [
        "1.1 Importing the necessary libraries:"
      ],
      "metadata": {
        "id": "rmSFqj2npPWy"
      }
    },
    {
      "cell_type": "code",
      "source": [
        "import numpy as np\n",
        "import pandas as pd\n",
        "import sklearn\n",
        "import seaborn as sns\n",
        "import matplotlib.pyplot as plt\n",
        "\n",
        "from sklearn import manifold\n",
        "from sklearn.decomposition import PCA\n",
        "\n",
        "%matplotlib inline \n",
        "sns.set(color_codes=True)"
      ],
      "metadata": {
        "id": "gDUkWDWxnk1C"
      },
      "execution_count": 26,
      "outputs": []
    },
    {
      "cell_type": "markdown",
      "source": [
        "1.2 Loading the data into the data frame:"
      ],
      "metadata": {
        "id": "dcz81UzOqiQd"
      }
    },
    {
      "cell_type": "code",
      "source": [
        "df = pd.read_csv(\"/content/lab1_dataset.csv\")\n",
        "df.shape"
      ],
      "metadata": {
        "id": "1wWJxqlqq_E5",
        "outputId": "89e26089-4a25-49bf-bc29-151c210e5d4b",
        "colab": {
          "base_uri": "https://localhost:8080/"
        }
      },
      "execution_count": 27,
      "outputs": [
        {
          "output_type": "execute_result",
          "data": {
            "text/plain": [
              "(2000, 552)"
            ]
          },
          "metadata": {},
          "execution_count": 27
        }
      ]
    },
    {
      "cell_type": "markdown",
      "source": [
        "1.3 Basic data preperation:"
      ],
      "metadata": {
        "id": "L1-y00sWtzce"
      }
    },
    {
      "cell_type": "code",
      "source": [
        "df = df.drop_duplicates()    # removing duplicate rows if there are any\n",
        "df = df.dropna()             # dropping the missing values\n",
        "\n",
        "df.shape"
      ],
      "metadata": {
        "id": "5qmbQPdft1_d",
        "outputId": "df00eb31-12d8-444d-eb1e-330bac9d4717",
        "colab": {
          "base_uri": "https://localhost:8080/"
        }
      },
      "execution_count": 28,
      "outputs": [
        {
          "output_type": "execute_result",
          "data": {
            "text/plain": [
              "(1900, 552)"
            ]
          },
          "metadata": {},
          "execution_count": 28
        }
      ]
    },
    {
      "cell_type": "markdown",
      "source": [
        "1.4 Removing outliers:"
      ],
      "metadata": {
        "id": "zT_UuU4TujgY"
      }
    },
    {
      "cell_type": "code",
      "source": [
        "#getting a summary table that includes mean and standard deviation\n",
        "df_summary = df.describe(include = 'all')\n",
        "\n",
        "#using the standard deviation to remove outliers (where outlier = 5 standard devs away from the mean)\n",
        "for col in df:\n",
        "  std = df_summary[col]['std']\n",
        "  mean = df_summary[col]['mean']\n",
        "  if df[col].dtypes == 'int64' or df[col].dtypes == 'float62':\n",
        "    for i in df.index:\n",
        "      if ((df[col][i] < (mean - 5*std)) or (df[col][i] > (mean + 5*std))):\n",
        "        df = df.drop([i])\n",
        "\n",
        "df.shape"
      ],
      "metadata": {
        "id": "BD3jgdXeuxVv",
        "outputId": "157062f5-e8d3-48fe-99e8-b6b8f70b1677",
        "colab": {
          "base_uri": "https://localhost:8080/"
        }
      },
      "execution_count": 29,
      "outputs": [
        {
          "output_type": "execute_result",
          "data": {
            "text/plain": [
              "(1741, 552)"
            ]
          },
          "metadata": {},
          "execution_count": 29
        }
      ]
    },
    {
      "cell_type": "markdown",
      "source": [
        "#2. Finding Correlation in Data"
      ],
      "metadata": {
        "id": "9K3AhrqkAF7w"
      }
    },
    {
      "cell_type": "markdown",
      "source": [
        "2.1 Constructing a correlation matrix"
      ],
      "metadata": {
        "id": "qEUA0lCBAMw9"
      }
    },
    {
      "cell_type": "code",
      "source": [
        "#create correlation matrix\n",
        "corr_matrix = df.corr().abs()"
      ],
      "metadata": {
        "id": "_9SOUAkCALPJ"
      },
      "execution_count": 31,
      "outputs": []
    },
    {
      "cell_type": "markdown",
      "source": [
        "2.2 Removing highly correlated data"
      ],
      "metadata": {
        "id": "KHH6Fk8BLgwK"
      }
    },
    {
      "cell_type": "code",
      "source": [
        "#isolate upper triangle (for lack of repetition)\n",
        "upper_triangle = corr_matrix.where((np.triu(np.ones(corr_matrix.shape), k=1) + \n",
        "                           np.tril(np.ones(corr_matrix.shape), k=-1)).astype(bool))\n",
        "\n",
        "#make a list of columns with correlation larger than .97\n",
        "drop_list = []\n",
        "for col in upper_triangle.columns:\n",
        "  if any(upper_triangle[col] > 0.97):\n",
        "    drop_list.append(col)\n",
        "\n",
        "#drop all the columns from the list\n",
        "df.drop(drop_list, axis=1, inplace=True)\n",
        "\n",
        "df.shape"
      ],
      "metadata": {
        "colab": {
          "base_uri": "https://localhost:8080/"
        },
        "id": "XyvhkM9F74Or",
        "outputId": "9bb803c1-fcc5-4bad-fc24-88b7dc864b1a"
      },
      "execution_count": 32,
      "outputs": [
        {
          "output_type": "execute_result",
          "data": {
            "text/plain": [
              "(1741, 242)"
            ]
          },
          "metadata": {},
          "execution_count": 32
        }
      ]
    },
    {
      "cell_type": "markdown",
      "source": [
        "#3. Establish Target Variable and Prepare It for Analysis"
      ],
      "metadata": {
        "id": "jNTKNF6SLxug"
      }
    },
    {
      "cell_type": "markdown",
      "source": [
        "3.1 Establishing a target variable"
      ],
      "metadata": {
        "id": "21CLCxPFOvyU"
      }
    },
    {
      "cell_type": "code",
      "source": [
        "#show top of the data\n",
        "df.head()"
      ],
      "metadata": {
        "id": "H8RYWttNNMxo",
        "outputId": "08bfb682-53d4-42fb-a490-fe6e45bf6340",
        "colab": {
          "base_uri": "https://localhost:8080/",
          "height": 299
        }
      },
      "execution_count": 33,
      "outputs": [
        {
          "output_type": "execute_result",
          "data": {
            "text/plain": [
              "   experimental_proprty          MS_enc  nHetero  nX  C2SP3  nFAHRing  \\\n",
              "0                  3.54  PPENPINEAPLE42        5   1      0         0   \n",
              "1                 -1.18  PPENPINEAPLE42       11   0      3         1   \n",
              "2                  3.69  PPENPINEAPLE42        5   1      2         1   \n",
              "3                  3.37  HTXPTDWTTWOBJR        9   1      3         1   \n",
              "4                  3.10  PPENPINEAPLE42        7   0      2         0   \n",
              "\n",
              "     AATS3d  nHBDon  nAcid  PEOE_VSA8  ...    ATSC6d      ATS5dv  NsssCH  \\\n",
              "0  3.127273       0      0  43.936717  ... -4.444444  222.888889       0   \n",
              "1  3.477273       2      1  12.108208  ... -9.756392  736.333333       1   \n",
              "2  3.400000       0      0  22.989293  ... -3.103725  327.444444       1   \n",
              "3  3.309735       4      0  17.494432  ... -5.502836  582.777778       2   \n",
              "4  2.816000       2      0  18.883484  ...  0.297521  510.000000       1   \n",
              "\n",
              "    AATSC2v  PEOE_VSA12       IC1  EState_VSA5  AATSC1dv  nFARing  n6Ring  \n",
              "0  4.021507     0.00000  3.133948    11.204087  1.102539        0       3  \n",
              "1  4.393094     5.90718  3.847419    30.657545  0.854039        1       3  \n",
              "2  5.398449     0.00000  3.524624    17.550396  0.793417        1       2  \n",
              "3 -0.991896     5.90718  4.110093    16.236696  0.421656        1       2  \n",
              "4  7.240313     5.90718  3.555674     4.681803  1.602810        0       1  \n",
              "\n",
              "[5 rows x 242 columns]"
            ],
            "text/html": [
              "\n",
              "  <div id=\"df-f75414e4-5c6c-42a1-a884-d6a80e6126ff\">\n",
              "    <div class=\"colab-df-container\">\n",
              "      <div>\n",
              "<style scoped>\n",
              "    .dataframe tbody tr th:only-of-type {\n",
              "        vertical-align: middle;\n",
              "    }\n",
              "\n",
              "    .dataframe tbody tr th {\n",
              "        vertical-align: top;\n",
              "    }\n",
              "\n",
              "    .dataframe thead th {\n",
              "        text-align: right;\n",
              "    }\n",
              "</style>\n",
              "<table border=\"1\" class=\"dataframe\">\n",
              "  <thead>\n",
              "    <tr style=\"text-align: right;\">\n",
              "      <th></th>\n",
              "      <th>experimental_proprty</th>\n",
              "      <th>MS_enc</th>\n",
              "      <th>nHetero</th>\n",
              "      <th>nX</th>\n",
              "      <th>C2SP3</th>\n",
              "      <th>nFAHRing</th>\n",
              "      <th>AATS3d</th>\n",
              "      <th>nHBDon</th>\n",
              "      <th>nAcid</th>\n",
              "      <th>PEOE_VSA8</th>\n",
              "      <th>...</th>\n",
              "      <th>ATSC6d</th>\n",
              "      <th>ATS5dv</th>\n",
              "      <th>NsssCH</th>\n",
              "      <th>AATSC2v</th>\n",
              "      <th>PEOE_VSA12</th>\n",
              "      <th>IC1</th>\n",
              "      <th>EState_VSA5</th>\n",
              "      <th>AATSC1dv</th>\n",
              "      <th>nFARing</th>\n",
              "      <th>n6Ring</th>\n",
              "    </tr>\n",
              "  </thead>\n",
              "  <tbody>\n",
              "    <tr>\n",
              "      <th>0</th>\n",
              "      <td>3.54</td>\n",
              "      <td>PPENPINEAPLE42</td>\n",
              "      <td>5</td>\n",
              "      <td>1</td>\n",
              "      <td>0</td>\n",
              "      <td>0</td>\n",
              "      <td>3.127273</td>\n",
              "      <td>0</td>\n",
              "      <td>0</td>\n",
              "      <td>43.936717</td>\n",
              "      <td>...</td>\n",
              "      <td>-4.444444</td>\n",
              "      <td>222.888889</td>\n",
              "      <td>0</td>\n",
              "      <td>4.021507</td>\n",
              "      <td>0.00000</td>\n",
              "      <td>3.133948</td>\n",
              "      <td>11.204087</td>\n",
              "      <td>1.102539</td>\n",
              "      <td>0</td>\n",
              "      <td>3</td>\n",
              "    </tr>\n",
              "    <tr>\n",
              "      <th>1</th>\n",
              "      <td>-1.18</td>\n",
              "      <td>PPENPINEAPLE42</td>\n",
              "      <td>11</td>\n",
              "      <td>0</td>\n",
              "      <td>3</td>\n",
              "      <td>1</td>\n",
              "      <td>3.477273</td>\n",
              "      <td>2</td>\n",
              "      <td>1</td>\n",
              "      <td>12.108208</td>\n",
              "      <td>...</td>\n",
              "      <td>-9.756392</td>\n",
              "      <td>736.333333</td>\n",
              "      <td>1</td>\n",
              "      <td>4.393094</td>\n",
              "      <td>5.90718</td>\n",
              "      <td>3.847419</td>\n",
              "      <td>30.657545</td>\n",
              "      <td>0.854039</td>\n",
              "      <td>1</td>\n",
              "      <td>3</td>\n",
              "    </tr>\n",
              "    <tr>\n",
              "      <th>2</th>\n",
              "      <td>3.69</td>\n",
              "      <td>PPENPINEAPLE42</td>\n",
              "      <td>5</td>\n",
              "      <td>1</td>\n",
              "      <td>2</td>\n",
              "      <td>1</td>\n",
              "      <td>3.400000</td>\n",
              "      <td>0</td>\n",
              "      <td>0</td>\n",
              "      <td>22.989293</td>\n",
              "      <td>...</td>\n",
              "      <td>-3.103725</td>\n",
              "      <td>327.444444</td>\n",
              "      <td>1</td>\n",
              "      <td>5.398449</td>\n",
              "      <td>0.00000</td>\n",
              "      <td>3.524624</td>\n",
              "      <td>17.550396</td>\n",
              "      <td>0.793417</td>\n",
              "      <td>1</td>\n",
              "      <td>2</td>\n",
              "    </tr>\n",
              "    <tr>\n",
              "      <th>3</th>\n",
              "      <td>3.37</td>\n",
              "      <td>HTXPTDWTTWOBJR</td>\n",
              "      <td>9</td>\n",
              "      <td>1</td>\n",
              "      <td>3</td>\n",
              "      <td>1</td>\n",
              "      <td>3.309735</td>\n",
              "      <td>4</td>\n",
              "      <td>0</td>\n",
              "      <td>17.494432</td>\n",
              "      <td>...</td>\n",
              "      <td>-5.502836</td>\n",
              "      <td>582.777778</td>\n",
              "      <td>2</td>\n",
              "      <td>-0.991896</td>\n",
              "      <td>5.90718</td>\n",
              "      <td>4.110093</td>\n",
              "      <td>16.236696</td>\n",
              "      <td>0.421656</td>\n",
              "      <td>1</td>\n",
              "      <td>2</td>\n",
              "    </tr>\n",
              "    <tr>\n",
              "      <th>4</th>\n",
              "      <td>3.10</td>\n",
              "      <td>PPENPINEAPLE42</td>\n",
              "      <td>7</td>\n",
              "      <td>0</td>\n",
              "      <td>2</td>\n",
              "      <td>0</td>\n",
              "      <td>2.816000</td>\n",
              "      <td>2</td>\n",
              "      <td>0</td>\n",
              "      <td>18.883484</td>\n",
              "      <td>...</td>\n",
              "      <td>0.297521</td>\n",
              "      <td>510.000000</td>\n",
              "      <td>1</td>\n",
              "      <td>7.240313</td>\n",
              "      <td>5.90718</td>\n",
              "      <td>3.555674</td>\n",
              "      <td>4.681803</td>\n",
              "      <td>1.602810</td>\n",
              "      <td>0</td>\n",
              "      <td>1</td>\n",
              "    </tr>\n",
              "  </tbody>\n",
              "</table>\n",
              "<p>5 rows × 242 columns</p>\n",
              "</div>\n",
              "      <button class=\"colab-df-convert\" onclick=\"convertToInteractive('df-f75414e4-5c6c-42a1-a884-d6a80e6126ff')\"\n",
              "              title=\"Convert this dataframe to an interactive table.\"\n",
              "              style=\"display:none;\">\n",
              "        \n",
              "  <svg xmlns=\"http://www.w3.org/2000/svg\" height=\"24px\"viewBox=\"0 0 24 24\"\n",
              "       width=\"24px\">\n",
              "    <path d=\"M0 0h24v24H0V0z\" fill=\"none\"/>\n",
              "    <path d=\"M18.56 5.44l.94 2.06.94-2.06 2.06-.94-2.06-.94-.94-2.06-.94 2.06-2.06.94zm-11 1L8.5 8.5l.94-2.06 2.06-.94-2.06-.94L8.5 2.5l-.94 2.06-2.06.94zm10 10l.94 2.06.94-2.06 2.06-.94-2.06-.94-.94-2.06-.94 2.06-2.06.94z\"/><path d=\"M17.41 7.96l-1.37-1.37c-.4-.4-.92-.59-1.43-.59-.52 0-1.04.2-1.43.59L10.3 9.45l-7.72 7.72c-.78.78-.78 2.05 0 2.83L4 21.41c.39.39.9.59 1.41.59.51 0 1.02-.2 1.41-.59l7.78-7.78 2.81-2.81c.8-.78.8-2.07 0-2.86zM5.41 20L4 18.59l7.72-7.72 1.47 1.35L5.41 20z\"/>\n",
              "  </svg>\n",
              "      </button>\n",
              "      \n",
              "  <style>\n",
              "    .colab-df-container {\n",
              "      display:flex;\n",
              "      flex-wrap:wrap;\n",
              "      gap: 12px;\n",
              "    }\n",
              "\n",
              "    .colab-df-convert {\n",
              "      background-color: #E8F0FE;\n",
              "      border: none;\n",
              "      border-radius: 50%;\n",
              "      cursor: pointer;\n",
              "      display: none;\n",
              "      fill: #1967D2;\n",
              "      height: 32px;\n",
              "      padding: 0 0 0 0;\n",
              "      width: 32px;\n",
              "    }\n",
              "\n",
              "    .colab-df-convert:hover {\n",
              "      background-color: #E2EBFA;\n",
              "      box-shadow: 0px 1px 2px rgba(60, 64, 67, 0.3), 0px 1px 3px 1px rgba(60, 64, 67, 0.15);\n",
              "      fill: #174EA6;\n",
              "    }\n",
              "\n",
              "    [theme=dark] .colab-df-convert {\n",
              "      background-color: #3B4455;\n",
              "      fill: #D2E3FC;\n",
              "    }\n",
              "\n",
              "    [theme=dark] .colab-df-convert:hover {\n",
              "      background-color: #434B5C;\n",
              "      box-shadow: 0px 1px 3px 1px rgba(0, 0, 0, 0.15);\n",
              "      filter: drop-shadow(0px 1px 2px rgba(0, 0, 0, 0.3));\n",
              "      fill: #FFFFFF;\n",
              "    }\n",
              "  </style>\n",
              "\n",
              "      <script>\n",
              "        const buttonEl =\n",
              "          document.querySelector('#df-f75414e4-5c6c-42a1-a884-d6a80e6126ff button.colab-df-convert');\n",
              "        buttonEl.style.display =\n",
              "          google.colab.kernel.accessAllowed ? 'block' : 'none';\n",
              "\n",
              "        async function convertToInteractive(key) {\n",
              "          const element = document.querySelector('#df-f75414e4-5c6c-42a1-a884-d6a80e6126ff');\n",
              "          const dataTable =\n",
              "            await google.colab.kernel.invokeFunction('convertToInteractive',\n",
              "                                                     [key], {});\n",
              "          if (!dataTable) return;\n",
              "\n",
              "          const docLinkHtml = 'Like what you see? Visit the ' +\n",
              "            '<a target=\"_blank\" href=https://colab.research.google.com/notebooks/data_table.ipynb>data table notebook</a>'\n",
              "            + ' to learn more about interactive tables.';\n",
              "          element.innerHTML = '';\n",
              "          dataTable['output_type'] = 'display_data';\n",
              "          await google.colab.output.renderOutput(dataTable, element);\n",
              "          const docLink = document.createElement('div');\n",
              "          docLink.innerHTML = docLinkHtml;\n",
              "          element.appendChild(docLink);\n",
              "        }\n",
              "      </script>\n",
              "    </div>\n",
              "  </div>\n",
              "  "
            ]
          },
          "metadata": {},
          "execution_count": 33
        }
      ]
    },
    {
      "cell_type": "markdown",
      "source": [
        "The 'experimental_proprty' column sounds like it may be our target variable. Let's get more info on it:"
      ],
      "metadata": {
        "id": "YS6QKacuO4S6"
      }
    },
    {
      "cell_type": "code",
      "source": [
        "#summary of possible target variable column\n",
        "df['experimental_proprty'].describe()"
      ],
      "metadata": {
        "id": "9gaqg5NzQi8w",
        "outputId": "4dbe3a60-77bf-48db-fc7b-e2a5e3bfbfd0",
        "colab": {
          "base_uri": "https://localhost:8080/"
        }
      },
      "execution_count": 34,
      "outputs": [
        {
          "output_type": "execute_result",
          "data": {
            "text/plain": [
              "count    1741.000000\n",
              "mean        2.152068\n",
              "std         1.210546\n",
              "min        -1.500000\n",
              "25%         1.350000\n",
              "50%         2.330000\n",
              "75%         3.090000\n",
              "max         4.500000\n",
              "Name: experimental_proprty, dtype: float64"
            ]
          },
          "metadata": {},
          "execution_count": 34
        }
      ]
    },
    {
      "cell_type": "markdown",
      "source": [
        "It seems like the range is quite small since the min is -1.5 and the max is 4.5. If you look at the quartiles they all have a difference of approximately 1 which leads me to believe that if we cast the column to integers instead of floats we can have approximetely 6 sections -1, 0, 1, 2, 3, and 4. This will make the analysis neater and more understandable."
      ],
      "metadata": {
        "id": "mEyEj9ykRdhq"
      }
    }
  ]
}