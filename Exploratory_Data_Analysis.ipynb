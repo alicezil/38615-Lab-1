{
  "nbformat": 4,
  "nbformat_minor": 0,
  "metadata": {
    "colab": {
      "provenance": [],
      "authorship_tag": "ABX9TyMSE8T61S1uOjZPO5x3SaHl",
      "include_colab_link": true
    },
    "kernelspec": {
      "name": "python3",
      "display_name": "Python 3"
    },
    "language_info": {
      "name": "python"
    }
  },
  "cells": [
    {
      "cell_type": "markdown",
      "metadata": {
        "id": "view-in-github",
        "colab_type": "text"
      },
      "source": [
        "<a href=\"https://colab.research.google.com/github/alicezil/38615-Lab-1/blob/main/Exploratory_Data_Analysis.ipynb\" target=\"_parent\"><img src=\"https://colab.research.google.com/assets/colab-badge.svg\" alt=\"Open In Colab\"/></a>"
      ]
    },
    {
      "cell_type": "markdown",
      "source": [
        "# 38615 Lab 1: Exploratory Data Anlysis"
      ],
      "metadata": {
        "id": "q6ime0RUncSG"
      }
    },
    {
      "cell_type": "markdown",
      "source": [
        "You will have to perform EDA analysis:\n",
        "\n",
        "*   Load data, prepare for analysis, process if necessary\n",
        "*   Analyze types of data\n",
        "*   Find and process missing and erroneous features\n",
        "*   Find outliers (if any)\n",
        "*   Find highly correlated variables (if any).\n",
        "*   Find if the target variable is correlated with any features.\n",
        "*   Use PCA to plot data in 2D and color code by the target property. Do you    see any patterns?\n",
        "*   Prepare a short write-up describing your processing technics and choices above.\n",
        "\n",
        "Bonus Qs:\n",
        "*   Use any non-linear dimensionality reduction method. Plot data in 2D and color code by the target property. Compare observed picture with PCA.\n",
        "*   Surprise me! Uncover hidden patterns and find non-trivial relationships in the data"
      ],
      "metadata": {
        "id": "CkzWLUzEoN1K"
      }
    },
    {
      "cell_type": "markdown",
      "source": [
        "# 1. Loading and Preparing Data for Analysis"
      ],
      "metadata": {
        "id": "H02LTodgo76M"
      }
    },
    {
      "cell_type": "markdown",
      "source": [
        "1.1 Importing the necessary libraries:"
      ],
      "metadata": {
        "id": "rmSFqj2npPWy"
      }
    },
    {
      "cell_type": "code",
      "source": [
        "import numpy as np\n",
        "import pandas as pd\n",
        "import sklearn\n",
        "import seaborn as sns\n",
        "import matplotlib.pyplot as plt\n",
        "\n",
        "from sklearn import manifold\n",
        "from sklearn.decomposition import PCA\n",
        "\n",
        "%matplotlib inline \n",
        "sns.set(color_codes=True)"
      ],
      "metadata": {
        "id": "gDUkWDWxnk1C"
      },
      "execution_count": 1,
      "outputs": []
    },
    {
      "cell_type": "markdown",
      "source": [
        "1.2 Loading the data into the data frame:"
      ],
      "metadata": {
        "id": "dcz81UzOqiQd"
      }
    },
    {
      "cell_type": "code",
      "source": [
        "df = pd.read_csv(\"/content/lab1_dataset.csv\")\n",
        "df.shape"
      ],
      "metadata": {
        "id": "1wWJxqlqq_E5",
        "outputId": "b0e94989-af00-48d8-a74a-02a0f127fdfc",
        "colab": {
          "base_uri": "https://localhost:8080/"
        }
      },
      "execution_count": 2,
      "outputs": [
        {
          "output_type": "execute_result",
          "data": {
            "text/plain": [
              "(2000, 552)"
            ]
          },
          "metadata": {},
          "execution_count": 2
        }
      ]
    },
    {
      "cell_type": "markdown",
      "source": [
        "1.3 Basic data preperation:"
      ],
      "metadata": {
        "id": "L1-y00sWtzce"
      }
    },
    {
      "cell_type": "code",
      "source": [
        "df = df.drop_duplicates()    # removing duplicate rows if there are any\n",
        "df = df.dropna()             # dropping the missing values\n",
        "\n",
        "df.shape"
      ],
      "metadata": {
        "id": "5qmbQPdft1_d",
        "outputId": "1dc0d16f-cbc8-443c-e3e2-26e45cbaafc2",
        "colab": {
          "base_uri": "https://localhost:8080/"
        }
      },
      "execution_count": 3,
      "outputs": [
        {
          "output_type": "execute_result",
          "data": {
            "text/plain": [
              "(1900, 552)"
            ]
          },
          "metadata": {},
          "execution_count": 3
        }
      ]
    },
    {
      "cell_type": "markdown",
      "source": [
        "1.4 Removing outliers:"
      ],
      "metadata": {
        "id": "zT_UuU4TujgY"
      }
    },
    {
      "cell_type": "code",
      "source": [
        "#getting a summary table that includes mean and standard deviation\n",
        "df_summary = df.describe(include = 'all')\n",
        "\n",
        "#using the standard deviation to remove outliers (where outlier = 5 standard devs away from the mean)\n",
        "for col in df:\n",
        "  std = df_summary[col]['std']\n",
        "  mean = df_summary[col]['mean']\n",
        "  if df[col].dtypes == 'int64' or df[col].dtypes == 'float62':\n",
        "    for i in df.index:\n",
        "      if ((df[col][i] < (mean - 5*std)) or (df[col][i] > (mean + 5*std))):\n",
        "        df = df.drop([i])\n",
        "\n",
        "df.shape"
      ],
      "metadata": {
        "id": "BD3jgdXeuxVv",
        "outputId": "b41d1272-5d2f-4b7d-b1cc-26c0e49c6dd8",
        "colab": {
          "base_uri": "https://localhost:8080/"
        }
      },
      "execution_count": 4,
      "outputs": [
        {
          "output_type": "execute_result",
          "data": {
            "text/plain": [
              "(1741, 552)"
            ]
          },
          "metadata": {},
          "execution_count": 4
        }
      ]
    },
    {
      "cell_type": "markdown",
      "source": [
        "#2. Finding Correlation in Data"
      ],
      "metadata": {
        "id": "9K3AhrqkAF7w"
      }
    },
    {
      "cell_type": "markdown",
      "source": [
        "2.1 Finding and removing highly correlated data"
      ],
      "metadata": {
        "id": "qEUA0lCBAMw9"
      }
    },
    {
      "cell_type": "code",
      "source": [
        "# Create correlation matrix\n",
        "corr_matrix = df.corr().abs()\n",
        "\n",
        "# find and drop features with correlation greater than .99\n",
        "upper = corr_matrix.where((np.triu(np.ones(corr_matrix.shape), k=1) + \n",
        "                           np.tril(np.ones(corr_matrix.shape), k=-1)).astype(bool))\n",
        "to_drop = [column for column in upper.columns if any(upper[column] > 0.99)]\n",
        "df.drop(to_drop, axis=1, inplace=True)\n",
        "\n",
        "df.shape"
      ],
      "metadata": {
        "colab": {
          "base_uri": "https://localhost:8080/"
        },
        "id": "_9SOUAkCALPJ",
        "outputId": "8f05eb64-3cc8-4ea9-9554-8980c23c9464"
      },
      "execution_count": 11,
      "outputs": [
        {
          "output_type": "execute_result",
          "data": {
            "text/plain": [
              "(1741, 242)"
            ]
          },
          "metadata": {},
          "execution_count": 11
        }
      ]
    }
  ]
}